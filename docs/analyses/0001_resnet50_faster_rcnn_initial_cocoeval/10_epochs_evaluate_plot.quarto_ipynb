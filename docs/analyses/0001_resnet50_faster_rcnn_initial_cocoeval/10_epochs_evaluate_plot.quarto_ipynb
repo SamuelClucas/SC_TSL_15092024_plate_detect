{
  "cells": [
    {
      "cell_type": "markdown",
      "metadata": {},
      "source": [
        "---\n",
        "title: \"Evaluating checkpoints/epoch_0 mAP and mAR on unseen validation dataset\"\n",
        "date: 20-09-2024\n",
        "date-format: short\n",
        "---\n",
        "\n",
        "\n",
        "### Purpose:\n",
        "\n",
        "### Programme Overview:\n",
        "\n",
        "#### Imports:"
      ],
      "id": "4c0d5e80"
    },
    {
      "cell_type": "code",
      "metadata": {},
      "source": [
        "from src import Plate_Image_Dataset, helper_training_functions\n",
        "import torch\n",
        "\n",
        "from torchvision.transforms.v2 import functional as F\n",
        "from pathlib import Path\n",
        "from typing import Dict, Union\n",
        "from torchvision.models.detection.faster_rcnn import fasterrcnn_resnet50_fpn_v2, FastRCNNPredictor, FasterRCNN_ResNet50_FPN_V2_Weights\n",
        "from torchvision.transforms import v2 as T\n",
        "import lib.utils as utils\n",
        "from lib.engine import train_one_epoch, evaluate \n",
        "import os\n",
        "import matplotlib.pyplot as plt\n",
        "import matplotlib.patches as patches\n",
        "import numpy as np\n",
        "import PIL\n",
        "from torchvision.utils import draw_bounding_boxes\n",
        "from torchvision.io import read_image\n",
        "from torch import nn"
      ],
      "id": "bd5566b2",
      "execution_count": null,
      "outputs": []
    },
    {
      "cell_type": "markdown",
      "metadata": {},
      "source": [
        "#### Other function, class etc.,"
      ],
      "id": "5b726c2f"
    },
    {
      "cell_type": "code",
      "metadata": {},
      "source": [
        "model = helper_training_functions.load_model('checkpoints')\n",
        "eval_metrics = helper_training_functions.evaluate_model(model, data_loader_test,device)\n",
        "    \n",
        "helper_training_functions.plot_eval_metrics(eval_metrics, 0)"
      ],
      "id": "69b39d97",
      "execution_count": null,
      "outputs": []
    },
    {
      "cell_type": "markdown",
      "metadata": {},
      "source": [
        "**Breakdown:** \\"
      ],
      "id": "e8cbfee7"
    },
    {
      "cell_type": "code",
      "metadata": {},
      "source": [
        "pass"
      ],
      "id": "1407c737",
      "execution_count": null,
      "outputs": []
    },
    {
      "cell_type": "markdown",
      "metadata": {},
      "source": [
        "- stepwise breakdown \\\n",
        "\n",
        "#### Main:"
      ],
      "id": "1d5cef39"
    },
    {
      "cell_type": "code",
      "metadata": {},
      "source": [
        "pass"
      ],
      "id": "311df996",
      "execution_count": null,
      "outputs": []
    },
    {
      "cell_type": "raw",
      "metadata": {},
      "source": [
        "**Breakdown:** \\\n",
        "- stepwise breakdown \\\n",
        "\n",
        "### Next step:\n",
        "\n",
        "---"
      ],
      "id": "b9385427"
    },
    {
      "cell_type": "markdown",
      "metadata": {},
      "source": [
        "title: \"downsize.py\"\n",
        "date: 20-09-2024\n",
        "date-format: short\n",
        "---\n",
        "\n",
        "\n",
        "### Purpose:\n",
        "\n",
        "### Programme Overview:\n",
        "\n",
        "#### Imports:"
      ],
      "id": "decdfb20"
    },
    {
      "cell_type": "code",
      "metadata": {},
      "source": [
        "pass"
      ],
      "id": "6720c57b",
      "execution_count": null,
      "outputs": []
    },
    {
      "cell_type": "markdown",
      "metadata": {},
      "source": [
        "#### Other function, class etc.,"
      ],
      "id": "98e1adeb"
    },
    {
      "cell_type": "code",
      "metadata": {},
      "source": [
        "pass"
      ],
      "id": "8b74d91c",
      "execution_count": null,
      "outputs": []
    },
    {
      "cell_type": "markdown",
      "metadata": {},
      "source": [
        "**Breakdown:** \\"
      ],
      "id": "3b7abf5e"
    },
    {
      "cell_type": "code",
      "metadata": {},
      "source": [
        "pass"
      ],
      "id": "cd4fa40c",
      "execution_count": null,
      "outputs": []
    },
    {
      "cell_type": "markdown",
      "metadata": {},
      "source": [
        "- stepwise breakdown \\\n",
        "\n",
        "#### Main:"
      ],
      "id": "19e46af7"
    },
    {
      "cell_type": "code",
      "metadata": {},
      "source": [
        "pass"
      ],
      "id": "65503caf",
      "execution_count": null,
      "outputs": []
    },
    {
      "cell_type": "markdown",
      "metadata": {},
      "source": [
        "**Breakdown:** \\\n",
        "- stepwise breakdown \\\n",
        "\n",
        "### Next step:---\n",
        "title: \"downsize.py\"\n",
        "date: 20-09-2024\n",
        "date-format: short\n",
        "\n",
        "---\n",
        "\n",
        "### Purpose:\n",
        "\n",
        "### Programme Overview:\n",
        "\n",
        "#### Imports:"
      ],
      "id": "c7bc0aae"
    },
    {
      "cell_type": "code",
      "metadata": {},
      "source": [
        "pass"
      ],
      "id": "21807b42",
      "execution_count": null,
      "outputs": []
    },
    {
      "cell_type": "markdown",
      "metadata": {},
      "source": [
        "#### Other function, class etc.,"
      ],
      "id": "8713ac39"
    },
    {
      "cell_type": "code",
      "metadata": {},
      "source": [
        "pass"
      ],
      "id": "ac736c4d",
      "execution_count": null,
      "outputs": []
    },
    {
      "cell_type": "markdown",
      "metadata": {},
      "source": [
        "**Breakdown:** \\"
      ],
      "id": "2ea906c5"
    },
    {
      "cell_type": "code",
      "metadata": {},
      "source": [
        "pass"
      ],
      "id": "e27b6a8e",
      "execution_count": null,
      "outputs": []
    },
    {
      "cell_type": "markdown",
      "metadata": {},
      "source": [
        "- stepwise breakdown \\\n",
        "\n",
        "#### Main:"
      ],
      "id": "9df6dc0d"
    },
    {
      "cell_type": "code",
      "metadata": {},
      "source": [
        "pass"
      ],
      "id": "884203df",
      "execution_count": null,
      "outputs": []
    },
    {
      "cell_type": "markdown",
      "metadata": {},
      "source": [
        "**Breakdown:** \\\n",
        "- stepwise breakdown \\\n",
        "\n",
        "### Next step:---\n",
        "title: \"downsize.py\"\n",
        "date: 20-09-2024\n",
        "date-format: short\n",
        "---\n",
        "\n",
        "\n",
        "### Purpose:\n",
        "\n",
        "### Programme Overview:\n",
        "\n",
        "#### Imports:"
      ],
      "id": "860bcc3b"
    },
    {
      "cell_type": "code",
      "metadata": {},
      "source": [
        "pass"
      ],
      "id": "1fe81a5a",
      "execution_count": null,
      "outputs": []
    },
    {
      "cell_type": "markdown",
      "metadata": {},
      "source": [
        "#### Other function, class etc.,"
      ],
      "id": "33088599"
    },
    {
      "cell_type": "code",
      "metadata": {},
      "source": [
        "pass"
      ],
      "id": "56874c89",
      "execution_count": null,
      "outputs": []
    },
    {
      "cell_type": "markdown",
      "metadata": {},
      "source": [
        "**Breakdown:** \\"
      ],
      "id": "da3f3400"
    },
    {
      "cell_type": "code",
      "metadata": {},
      "source": [
        "pass"
      ],
      "id": "2cc8d3ae",
      "execution_count": null,
      "outputs": []
    },
    {
      "cell_type": "markdown",
      "metadata": {},
      "source": [
        "- stepwise breakdown \\\n",
        "\n",
        "#### Main:"
      ],
      "id": "efae8af4"
    },
    {
      "cell_type": "code",
      "metadata": {},
      "source": [
        "pass"
      ],
      "id": "2533b963",
      "execution_count": null,
      "outputs": []
    },
    {
      "cell_type": "markdown",
      "metadata": {},
      "source": [
        "**Breakdown:** \\\n",
        "- stepwise breakdown \\\n",
        "\n",
        "### Next step:---\n",
        "title: \"downsize.py\"\n",
        "date: 20-09-2024\n",
        "date-format: short\n",
        "\n",
        "---\n",
        "\n",
        "### Purpose:\n",
        "\n",
        "### Programme Overview:\n",
        "\n",
        "#### Imports:"
      ],
      "id": "a75e2a9c"
    },
    {
      "cell_type": "code",
      "metadata": {},
      "source": [
        "pass"
      ],
      "id": "1c316c39",
      "execution_count": null,
      "outputs": []
    },
    {
      "cell_type": "markdown",
      "metadata": {},
      "source": [
        "#### Other function, class etc.,"
      ],
      "id": "bc79383b"
    },
    {
      "cell_type": "code",
      "metadata": {},
      "source": [
        "pass"
      ],
      "id": "c33fec4d",
      "execution_count": null,
      "outputs": []
    },
    {
      "cell_type": "markdown",
      "metadata": {},
      "source": [
        "**Breakdown:** \\"
      ],
      "id": "11bc7240"
    },
    {
      "cell_type": "code",
      "metadata": {},
      "source": [
        "pass"
      ],
      "id": "56fbf6d4",
      "execution_count": null,
      "outputs": []
    },
    {
      "cell_type": "markdown",
      "metadata": {},
      "source": [
        "- stepwise breakdown \\\n",
        "\n",
        "#### Main:"
      ],
      "id": "5ddb5a8d"
    },
    {
      "cell_type": "code",
      "metadata": {},
      "source": [
        "pass"
      ],
      "id": "b1daeb87",
      "execution_count": null,
      "outputs": []
    },
    {
      "cell_type": "markdown",
      "metadata": {},
      "source": [
        "**Breakdown:** \\\n",
        "- stepwise breakdown \\\n",
        "\n",
        "### Next step:---\n",
        "title: \"program_name.py\"\n",
        "date: dd-mm-yyyy\n",
        "date-format: short\n",
        "---\n",
        "\n",
        "\n",
        "### Purpose:\n",
        "\n",
        "### Programme Overview:\n",
        "\n",
        "#### Imports:"
      ],
      "id": "b8cd48cd"
    },
    {
      "cell_type": "code",
      "metadata": {},
      "source": [
        "pass"
      ],
      "id": "9ca8f938",
      "execution_count": null,
      "outputs": []
    },
    {
      "cell_type": "markdown",
      "metadata": {},
      "source": [
        "#### Other function, class etc.,"
      ],
      "id": "fb1490b5"
    },
    {
      "cell_type": "code",
      "metadata": {},
      "source": [
        "pass"
      ],
      "id": "54aa6efb",
      "execution_count": null,
      "outputs": []
    },
    {
      "cell_type": "markdown",
      "metadata": {},
      "source": [
        "**Breakdown:** \\"
      ],
      "id": "bbbf1542"
    },
    {
      "cell_type": "code",
      "metadata": {},
      "source": [
        "pass"
      ],
      "id": "b7a966b9",
      "execution_count": null,
      "outputs": []
    },
    {
      "cell_type": "markdown",
      "metadata": {},
      "source": [
        "- stepwise breakdown \\\n",
        "\n",
        "#### Main:"
      ],
      "id": "b8e31f8c"
    },
    {
      "cell_type": "code",
      "metadata": {},
      "source": [
        "pass"
      ],
      "id": "ebd9d76d",
      "execution_count": null,
      "outputs": []
    },
    {
      "cell_type": "markdown",
      "metadata": {},
      "source": [
        "**Breakdown:** \\\n",
        "- stepwise breakdown \\\n",
        "\n",
        "### Next step:---\n",
        "title: \"downsize.py\"\n",
        "date: 20-09-2024\n",
        "date-format: short\n",
        "\n",
        "---\n",
        "\n",
        "### Purpose:\n",
        "\n",
        "### Programme Overview:\n",
        "\n",
        "#### Imports:"
      ],
      "id": "2f76fbc8"
    },
    {
      "cell_type": "code",
      "metadata": {},
      "source": [
        "pass"
      ],
      "id": "98701ae1",
      "execution_count": null,
      "outputs": []
    },
    {
      "cell_type": "markdown",
      "metadata": {},
      "source": [
        "#### Other function, class etc.,"
      ],
      "id": "a40f2ff2"
    },
    {
      "cell_type": "code",
      "metadata": {},
      "source": [
        "pass"
      ],
      "id": "dbc4719f",
      "execution_count": null,
      "outputs": []
    },
    {
      "cell_type": "markdown",
      "metadata": {},
      "source": [
        "**Breakdown:** \\"
      ],
      "id": "2b84f6fb"
    },
    {
      "cell_type": "code",
      "metadata": {},
      "source": [
        "pass"
      ],
      "id": "32380d21",
      "execution_count": null,
      "outputs": []
    },
    {
      "cell_type": "markdown",
      "metadata": {},
      "source": [
        "- stepwise breakdown \\\n",
        "\n",
        "#### Main:"
      ],
      "id": "2a729c1a"
    },
    {
      "cell_type": "code",
      "metadata": {},
      "source": [
        "pass"
      ],
      "id": "aa5f134f",
      "execution_count": null,
      "outputs": []
    },
    {
      "cell_type": "markdown",
      "metadata": {},
      "source": [
        "**Breakdown:** \\\n",
        "- stepwise breakdown \\\n",
        "\n",
        "### Next step:"
      ],
      "id": "61d56c68"
    }
  ],
  "metadata": {
    "kernelspec": {
      "name": "python3",
      "language": "python",
      "display_name": "Python 3 (ipykernel)",
      "path": "/Users/cla24mas/Documents/My_Repos/SC_plate_detect/.venv/share/jupyter/kernels/python3"
    }
  },
  "nbformat": 4,
  "nbformat_minor": 5
}